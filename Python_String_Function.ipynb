{
 "cells": [
  {
   "cell_type": "markdown",
   "id": "fb54f60f",
   "metadata": {},
   "source": [
    "# Python String Functons"
   ]
  },
  {
   "cell_type": "markdown",
   "id": "ad707a7c",
   "metadata": {},
   "source": [
    "## capitalize()"
   ]
  },
  {
   "cell_type": "code",
   "execution_count": 16,
   "id": "0b06e902",
   "metadata": {},
   "outputs": [
    {
     "name": "stdout",
     "output_type": "stream",
     "text": [
      "Hello, welcome to python tutorial.\n"
     ]
    }
   ],
   "source": [
    "txt = \"hello, welcome to python tutorial.\"\n",
    "x = txt.capitalize()\n",
    "print (x)"
   ]
  },
  {
   "cell_type": "code",
   "execution_count": 15,
   "id": "9203bc9a",
   "metadata": {},
   "outputs": [
    {
     "name": "stdout",
     "output_type": "stream",
     "text": [
      "45, how are you.\n"
     ]
    }
   ],
   "source": [
    "txt = \"45, how are YOU.\"\n",
    "x = txt.capitalize()\n",
    "print (x)"
   ]
  },
  {
   "cell_type": "code",
   "execution_count": 13,
   "id": "32c2636e",
   "metadata": {},
   "outputs": [
    {
     "name": "stdout",
     "output_type": "stream",
     "text": [
      "How are you brother.\n"
     ]
    }
   ],
   "source": [
    "txt = \"how are YOU BroTHer.\"\n",
    "x = txt.capitalize()\n",
    "print (x)"
   ]
  },
  {
   "cell_type": "markdown",
   "id": "bc62d483",
   "metadata": {},
   "source": [
    "## casefold()"
   ]
  },
  {
   "cell_type": "code",
   "execution_count": 17,
   "id": "c2226ccb",
   "metadata": {},
   "outputs": [
    {
     "name": "stdout",
     "output_type": "stream",
     "text": [
      "this is my home\n"
     ]
    }
   ],
   "source": [
    "txt = \"this is my HoME\"\n",
    "x = txt.casefold()\n",
    "print(x)"
   ]
  },
  {
   "cell_type": "code",
   "execution_count": 18,
   "id": "ff8b1d32",
   "metadata": {},
   "outputs": [
    {
     "data": {
      "text/plain": [
       "'this is my book'"
      ]
     },
     "execution_count": 18,
     "metadata": {},
     "output_type": "execute_result"
    }
   ],
   "source": [
    "str_1 = 'THis IS my book'\n",
    "str_1.casefold()"
   ]
  },
  {
   "cell_type": "code",
   "execution_count": 19,
   "id": "b8e91754",
   "metadata": {},
   "outputs": [],
   "source": [
    "str_1 = 'THis IS my book'\n",
    "a=str_1.casefold()"
   ]
  },
  {
   "cell_type": "code",
   "execution_count": 20,
   "id": "d724f851",
   "metadata": {},
   "outputs": [
    {
     "data": {
      "text/plain": [
       "'this is my book'"
      ]
     },
     "execution_count": 20,
     "metadata": {},
     "output_type": "execute_result"
    }
   ],
   "source": [
    "a"
   ]
  },
  {
   "cell_type": "code",
   "execution_count": 21,
   "id": "cdb783d6",
   "metadata": {},
   "outputs": [
    {
     "data": {
      "text/plain": [
       "'s'"
      ]
     },
     "execution_count": 21,
     "metadata": {},
     "output_type": "execute_result"
    }
   ],
   "source": [
    "a[3]"
   ]
  },
  {
   "cell_type": "markdown",
   "id": "c8925c94",
   "metadata": {},
   "source": [
    "## center()"
   ]
  },
  {
   "cell_type": "code",
   "execution_count": 36,
   "id": "4ffb6cf8",
   "metadata": {},
   "outputs": [
    {
     "name": "stdout",
     "output_type": "stream",
     "text": [
      "       Vishnu       \n",
      "20\n"
     ]
    }
   ],
   "source": [
    "txt = \"Vishnu\"\n",
    "\n",
    "x = txt.center(20)\n",
    "\n",
    "print(x)\n",
    "print(len(x))"
   ]
  },
  {
   "cell_type": "code",
   "execution_count": 38,
   "id": "3664afa7",
   "metadata": {},
   "outputs": [
    {
     "name": "stdout",
     "output_type": "stream",
     "text": [
      "*****Kumar******\n",
      "16\n"
     ]
    }
   ],
   "source": [
    "txt = \"Kumar\"\n",
    "\n",
    "x = txt.center(16, \"*\")\n",
    "\n",
    "print(x)\n",
    "print(len(x))"
   ]
  },
  {
   "cell_type": "markdown",
   "id": "bdf29351",
   "metadata": {},
   "source": [
    "## count()"
   ]
  },
  {
   "cell_type": "code",
   "execution_count": null,
   "id": "e97efef0",
   "metadata": {},
   "outputs": [],
   "source": [
    "# string.count(value, start, end)"
   ]
  },
  {
   "cell_type": "code",
   "execution_count": 40,
   "id": "18c4a72b",
   "metadata": {},
   "outputs": [
    {
     "name": "stdout",
     "output_type": "stream",
     "text": [
      "4\n"
     ]
    }
   ],
   "source": [
    "txt = \"I m from Mumbai, my class is located in Andheri.\"\n",
    "\n",
    "x = txt.count(\"m\")\n",
    "\n",
    "print(x)"
   ]
  },
  {
   "cell_type": "code",
   "execution_count": 46,
   "id": "a3ec658a",
   "metadata": {},
   "outputs": [
    {
     "name": "stdout",
     "output_type": "stream",
     "text": [
      "3\n",
      "75\n"
     ]
    }
   ],
   "source": [
    "txt = \"My name is Akash, my frient is from Jaipur, my class is located in Andheri.\"\n",
    "\n",
    "x = txt.count(\"is\")\n",
    "\n",
    "print(x)"
   ]
  },
  {
   "cell_type": "code",
   "execution_count": 57,
   "id": "314b0153",
   "metadata": {},
   "outputs": [
    {
     "name": "stdout",
     "output_type": "stream",
     "text": [
      "2\n"
     ]
    }
   ],
   "source": [
    "txt = \"My name is Akash, my frient is from Jaipur, my class is located in Andheri.\"\n",
    "\n",
    "x = txt.count(\"is\",15,60)\n",
    "\n",
    "print(x)"
   ]
  },
  {
   "cell_type": "code",
   "execution_count": null,
   "id": "c2a944da",
   "metadata": {},
   "outputs": [],
   "source": [
    " "
   ]
  },
  {
   "cell_type": "code",
   "execution_count": null,
   "id": "b68ef2ed",
   "metadata": {},
   "outputs": [],
   "source": []
  }
 ],
 "metadata": {
  "kernelspec": {
   "display_name": "Python 3 (ipykernel)",
   "language": "python",
   "name": "python3"
  },
  "language_info": {
   "codemirror_mode": {
    "name": "ipython",
    "version": 3
   },
   "file_extension": ".py",
   "mimetype": "text/x-python",
   "name": "python",
   "nbconvert_exporter": "python",
   "pygments_lexer": "ipython3",
   "version": "3.10.9"
  }
 },
 "nbformat": 4,
 "nbformat_minor": 5
}
